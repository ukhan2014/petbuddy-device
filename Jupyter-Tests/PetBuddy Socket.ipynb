{
 "cells": [
  {
   "cell_type": "code",
   "execution_count": 2,
   "metadata": {},
   "outputs": [
    {
     "name": "stdout",
     "output_type": "stream",
     "text": [
      "hello\n"
     ]
    }
   ],
   "source": [
    "print(\"hello\")"
   ]
  },
  {
   "cell_type": "code",
   "execution_count": 3,
   "metadata": {},
   "outputs": [
    {
     "name": "stdout",
     "output_type": "stream",
     "text": [
      "hi there, how are things\n"
     ]
    }
   ],
   "source": [
    "print \"hi there, how are things\""
   ]
  },
  {
   "cell_type": "code",
   "execution_count": 3,
   "metadata": {
    "collapsed": true
   },
   "outputs": [],
   "source": [
    "s = socket.socket(socket.AF_INET, socket.SOCK_STREAM)\n",
    "s.connect((\"192.168.1.1\", 80))"
   ]
  },
  {
   "cell_type": "code",
   "execution_count": 4,
   "metadata": {
    "collapsed": true
   },
   "outputs": [],
   "source": [
    "import socket"
   ]
  },
  {
   "cell_type": "code",
   "execution_count": 5,
   "metadata": {},
   "outputs": [
    {
     "data": {
      "text/plain": [
       "<socket._socketobject at 0x10c31aad0>"
      ]
     },
     "execution_count": 5,
     "metadata": {},
     "output_type": "execute_result"
    }
   ],
   "source": [
    "s"
   ]
  },
  {
   "cell_type": "code",
   "execution_count": 12,
   "metadata": {},
   "outputs": [
    {
     "name": "stdout",
     "output_type": "stream",
     "text": [
      "<h1> Hello PetBuddy! </h1>\n",
      "DOne\n",
      "Received '<h1> Hello PetBuddy! </h1>'\n"
     ]
    }
   ],
   "source": [
    "#s.setsockopt(socket.SOL_SOCKET, socket.SO_REUSEADDR, 1)\n",
    "#s.setblocking(0)\n",
    "s = socket.socket(socket.AF_INET, socket.SOCK_STREAM)\n",
    "s.connect((\"192.168.1.1\", 80))\n",
    "s.send(\"GET / HTTP/1.0%s\") # % (CRLF))\n",
    "data = (s.recv(1000000))\n",
    "print data\n",
    "# https://docs.python.org/2/howto/sockets.html#disconnecting\n",
    "s.shutdown(1)\n",
    "s.close()\n",
    "print \"DOne\"\n",
    "print 'Received', repr(data)"
   ]
  },
  {
   "cell_type": "code",
   "execution_count": 29,
   "metadata": {},
   "outputs": [
    {
     "name": "stdout",
     "output_type": "stream",
     "text": [
      "hello\n"
     ]
    }
   ],
   "source": [
    "print (\"hello\")"
   ]
  },
  {
   "cell_type": "code",
   "execution_count": 2,
   "metadata": {},
   "outputs": [
    {
     "name": "stdout",
     "output_type": "stream",
     "text": [
      "('Received', \"u'PetBuddy: 000401711350BP\\\\nRX:PB053117104000:sendwifi'\")\n"
     ]
    }
   ],
   "source": [
    "import socket\n",
    "sock = socket.socket(socket.AF_INET, socket.SOCK_STREAM)\n",
    "sock.connect((\"192.168.1.1\", 8234))\n",
    "#sock.sendall(\"POST /login HTTP/1.1\\r\\n\" # send headers\n",
    "#              \"Host: {hostname}\\r\\n\"\n",
    "#              \"Connection: close\\r\\n\"\n",
    "#              \"Content-Type : application/x-www-form-urlencoded\\r\\n\"\n",
    "#              \"Content-Length: {len}\\r\\n\"\n",
    "#              \"\\r\\n\".format(hostname=\"gomblobaba\", len=10).encode('ascii'))\n",
    "sno = \"PB053117104000\"\n",
    "reversed_sno = ''.join(reversed(sno))\n",
    "sock.sendall(reversed_sno.encode()) # send data\n",
    "data = sock.recv(100).decode()\n",
    "# https://docs.python.org/2/howto/sockets.html#disconnecting\n",
    "sock.shutdown(1)\n",
    "sock.close()\n",
    "print('Received', repr(data))"
   ]
  },
  {
   "cell_type": "code",
   "execution_count": 154,
   "metadata": {},
   "outputs": [
    {
     "name": "stdout",
     "output_type": "stream",
     "text": [
      "ciphertext of 'PB053117104000' is 'ar\u0001\u0005\u0002\u0000\u0000\u0006\u0001\u0000\u0005\u0000\u0001\u0001'\n",
      "decryption of 'ar\u0001\u0005\u0002\u0000\u0000\u0006\u0001\u0000\u0005\u0000\u0001\u0001' is 'PB053117104000'\n"
     ]
    },
    {
     "data": {
      "text/plain": [
       "'ar\\x01\\x05\\x02\\x00\\x00\\x06\\x01\\x00\\x05\\x00\\x01\\x01'"
      ]
     },
     "execution_count": 154,
     "metadata": {},
     "output_type": "execute_result"
    }
   ],
   "source": [
    "def xor(data, key): \n",
    "    return bytearray(a^b for a, b in zip(*map(bytearray, [data, key]))) \n",
    "\n",
    "one_time_pad = \"1010111100101110110101\"   # the shared secret\n",
    "plaintext = \"PB053117104000\"\n",
    "ciphertext = xor(plaintext, one_time_pad)\n",
    "print(\"ciphertext of \\'\" + plaintext + \"\\' is \\'\" + ciphertext + \"\\'\")\n",
    "decrypted = xor(ciphertext, one_time_pad)\n",
    "print(\"decryption of \\'\" + ciphertext + \"\\' is \\'\" + decrypted + \"\\'\")\n",
    "\n",
    "# convert string to byte array\n",
    "bytes(ciphertext)"
   ]
  },
  {
   "cell_type": "code",
   "execution_count": 160,
   "metadata": {},
   "outputs": [
    {
     "name": "stdout",
     "output_type": "stream",
     "text": [
      "going to send ar\u0001\u0005\u0002\u0000\u0000\u0006\u0001\u0000\u0005\u0000\u0001\u0001\n",
      "Received '\\xff\\xed\\x9f\\x9a\\x9c\\x9e\\x9e\\x98\\x9e\\x9f\\x9b\\x9f\\x9f\\x9f'\n"
     ]
    }
   ],
   "source": [
    "import socket\n",
    "\n",
    "def xor(data, key): \n",
    "    return bytearray(a^b for a, b in zip(*map(bytearray, [data, key]))) \n",
    "\n",
    "one_time_pad = \"1010111100101110110101\"   # the shared secret\n",
    "\n",
    "PBD_serialno = 'PB053117104000'\n",
    "qr_code = xor(PBD_serialno, one_time_pad)\n",
    "print(\"going to send \" + qr_code)\n",
    "\n",
    "sock = socket.socket(socket.AF_INET, socket.SOCK_STREAM)\n",
    "sock.connect((\"192.168.1.1\", 8234))\n",
    "sock.send(\"\\xff\\xed\\x9f\\x9a\\x9c\\x9e\\x9e\\x98\\x9e\\x9f\\x9b\\x9f\\x9f\\x9f\") # send data\n",
    "data = (sock.recv(100))\n",
    "# https://docs.python.org/2/howto/sockets.html#disconnecting\n",
    "sock.shutdown(1)\n",
    "sock.close()\n",
    "print 'Received', repr(data)\n",
    "\n"
   ]
  },
  {
   "cell_type": "code",
   "execution_count": 137,
   "metadata": {},
   "outputs": [
    {
     "data": {
      "text/plain": [
       "bytearray(b'A')"
      ]
     },
     "execution_count": 137,
     "metadata": {},
     "output_type": "execute_result"
    }
   ],
   "source": [
    "a = chr(65)\n",
    "b = bytearray()\n",
    "b.extend(a)\n",
    "b"
   ]
  },
  {
   "cell_type": "code",
   "execution_count": 7,
   "metadata": {},
   "outputs": [
    {
     "name": "stdout",
     "output_type": "stream",
     "text": [
      "('Received', 'u\"PetBuddy: hgklg\\\\nPetBuddy: I don\\'t know what that means.\"')\n"
     ]
    }
   ],
   "source": [
    "import socket\n",
    "\n",
    "def sendToPetBuddy(msg):\n",
    "    sock = socket.socket(socket.AF_INET, socket.SOCK_STREAM)\n",
    "    sock.connect((\"192.168.1.1\", 8234))\n",
    "    sock.sendall(str.encode(msg)) # send message to the petbuddy and petbuddy responds\n",
    "    data = sock.recv(100).decode() #data is incoming message from petbuddy in response to message\n",
    "    sock.shutdown(1)\n",
    "    sock.close()\n",
    "    print('Received', repr(data))\n",
    "    \n",
    "message = \"hgklg\"\n",
    "sendToPetBuddy(message)"
   ]
  },
  {
   "cell_type": "code",
   "execution_count": 1,
   "metadata": {
    "collapsed": true
   },
   "outputs": [],
   "source": [
    "import socket\n",
    "\n",
    "def sendToPetBuddy(msg):\n",
    "    sock = socket.socket(socket.AF_INET, socket.SOCK_STREAM)\n",
    "    sock.connect((\"192.168.1.1\", 8234))\n",
    "    sock.sendall(str.encode(msg)) # send message to the petbuddy and petbuddy responds\n",
    "    \n",
    "message = \"hello\"\n",
    "sendToPetBuddy(message)"
   ]
  },
  {
   "cell_type": "code",
   "execution_count": null,
   "metadata": {
    "collapsed": true
   },
   "outputs": [],
   "source": []
  },
  {
   "cell_type": "code",
   "execution_count": null,
   "metadata": {
    "collapsed": true
   },
   "outputs": [],
   "source": []
  },
  {
   "cell_type": "code",
   "execution_count": null,
   "metadata": {
    "collapsed": true
   },
   "outputs": [],
   "source": []
  },
  {
   "cell_type": "code",
   "execution_count": null,
   "metadata": {
    "collapsed": true
   },
   "outputs": [],
   "source": []
  }
 ],
 "metadata": {
  "kernelspec": {
   "display_name": "Python 2",
   "language": "python",
   "name": "python2"
  },
  "language_info": {
   "codemirror_mode": {
    "name": "ipython",
    "version": 2
   },
   "file_extension": ".py",
   "mimetype": "text/x-python",
   "name": "python",
   "nbconvert_exporter": "python",
   "pygments_lexer": "ipython2",
   "version": "2.7.10"
  }
 },
 "nbformat": 4,
 "nbformat_minor": 2
}
