{
 "cells": [
  {
   "cell_type": "code",
   "execution_count": 3,
   "metadata": {},
   "outputs": [
    {
     "name": "stdout",
     "output_type": "stream",
     "text": [
      "Received \"PetBuddy: 000401711350BP\\nPetBuddy: I don't know what that means.\"\n"
     ]
    }
   ],
   "source": [
    "# Ask petbuddy for the wifi networks it sees around it\n",
    "#1. Send the serial number of the PBD reversed as a message\n",
    "#2. Receive data structure with wifi SSIDs\n",
    "#3. Send PBD the index of the wifi network you want it to connect to\n",
    "\n",
    "import socket\n",
    "sock = socket.socket(socket.AF_INET, socket.SOCK_STREAM)\n",
    "sock.connect((\"192.168.1.1\", 8234))\n",
    "#this is petbuddy serial number\n",
    "sno = \"PB053117104000\"\n",
    "#reversed serial no. as to ensure that correct petbuddy is being joined, no one else will know this\n",
    "reversed_sno = ''.join(reversed(sno))\n",
    "#send petbuddy reversed encoded string\n",
    "sock.sendall(reversed_sno.encode())\n",
    "#get petbuddy's decoded reply\n",
    "data = sock.recv(100).decode()\n",
    "sock.shutdown(1)\n",
    "sock.close()\n",
    "#print out petbuddy's reply\n",
    "print('Received', repr(data))"
   ]
  },
  {
   "cell_type": "code",
   "execution_count": 4,
   "metadata": {},
   "outputs": [
    {
     "name": "stdout",
     "output_type": "stream",
     "text": [
      "Received 'PetBuddy: turnServo\\nturning the servo'\n"
     ]
    }
   ],
   "source": [
    "#code for sending petbuddy commands\n",
    "#broadcast petbuddy wifi over ESPlorer\n",
    "#connect to petbuddy wifi network\n",
    "#run this script with varying messages (message = turnServo, feedpet, hello, SSID)\n",
    "#petbuddy will run the code associated with that message\n",
    "\n",
    "import socket\n",
    "\n",
    "def sendToPetBuddy(msg):\n",
    "    sock = socket.socket(socket.AF_INET, socket.SOCK_STREAM)\n",
    "    sock.connect((\"192.168.1.1\", 8234))\n",
    "    #send message to the petbuddy and petbuddy responds\n",
    "    sock.sendall(msg.encode()) \n",
    "    #data is incoming encoded message from petbuddy in response to message\n",
    "    data = sock.recv(100).decode() \n",
    "    sock.shutdown(1)\n",
    "    sock.close()\n",
    "    #print data incoming from petbuddy\n",
    "    print('Received', repr(data))\n",
    "\n",
    "#function used in message = str    \n",
    "message = \"turnServo\"\n",
    "sendToPetBuddy(message)"
   ]
  },
  {
   "cell_type": "code",
   "execution_count": 40,
   "metadata": {},
   "outputs": [
    {
     "name": "stdout",
     "output_type": "stream",
     "text": [
      "waiting for a connection\n"
     ]
    },
    {
     "ename": "KeyboardInterrupt",
     "evalue": "",
     "output_type": "error",
     "traceback": [
      "\u001b[0;31m---------------------------------------------------------------------------\u001b[0m",
      "\u001b[0;31mKeyboardInterrupt\u001b[0m                         Traceback (most recent call last)",
      "\u001b[0;32m<ipython-input-40-8ac2ddeb0590>\u001b[0m in \u001b[0;36m<module>\u001b[0;34m()\u001b[0m\n\u001b[1;32m     16\u001b[0m     \u001b[0;31m# Wait for a connection\u001b[0m\u001b[0;34m\u001b[0m\u001b[0;34m\u001b[0m\u001b[0m\n\u001b[1;32m     17\u001b[0m     \u001b[0mprint\u001b[0m \u001b[0;34m(\u001b[0m\u001b[0;34m'waiting for a connection'\u001b[0m\u001b[0;34m)\u001b[0m\u001b[0;34m\u001b[0m\u001b[0m\n\u001b[0;32m---> 18\u001b[0;31m     \u001b[0mconnection\u001b[0m\u001b[0;34m,\u001b[0m \u001b[0mclient_address\u001b[0m \u001b[0;34m=\u001b[0m \u001b[0msock\u001b[0m\u001b[0;34m.\u001b[0m\u001b[0maccept\u001b[0m\u001b[0;34m(\u001b[0m\u001b[0;34m)\u001b[0m\u001b[0;34m\u001b[0m\u001b[0m\n\u001b[0m\u001b[1;32m     19\u001b[0m \u001b[0;34m\u001b[0m\u001b[0m\n\u001b[1;32m     20\u001b[0m     \u001b[0;32mtry\u001b[0m\u001b[0;34m:\u001b[0m\u001b[0;34m\u001b[0m\u001b[0m\n",
      "\u001b[0;32m/usr/local/Cellar/python3/3.6.2/Frameworks/Python.framework/Versions/3.6/lib/python3.6/socket.py\u001b[0m in \u001b[0;36maccept\u001b[0;34m(self)\u001b[0m\n\u001b[1;32m    203\u001b[0m         \u001b[0mFor\u001b[0m \u001b[0mIP\u001b[0m \u001b[0msockets\u001b[0m\u001b[0;34m,\u001b[0m \u001b[0mthe\u001b[0m \u001b[0maddress\u001b[0m \u001b[0minfo\u001b[0m \u001b[0;32mis\u001b[0m \u001b[0ma\u001b[0m \u001b[0mpair\u001b[0m \u001b[0;34m(\u001b[0m\u001b[0mhostaddr\u001b[0m\u001b[0;34m,\u001b[0m \u001b[0mport\u001b[0m\u001b[0;34m)\u001b[0m\u001b[0;34m.\u001b[0m\u001b[0;34m\u001b[0m\u001b[0m\n\u001b[1;32m    204\u001b[0m         \"\"\"\n\u001b[0;32m--> 205\u001b[0;31m         \u001b[0mfd\u001b[0m\u001b[0;34m,\u001b[0m \u001b[0maddr\u001b[0m \u001b[0;34m=\u001b[0m \u001b[0mself\u001b[0m\u001b[0;34m.\u001b[0m\u001b[0m_accept\u001b[0m\u001b[0;34m(\u001b[0m\u001b[0;34m)\u001b[0m\u001b[0;34m\u001b[0m\u001b[0m\n\u001b[0m\u001b[1;32m    206\u001b[0m         \u001b[0;31m# If our type has the SOCK_NONBLOCK flag, we shouldn't pass it onto the\u001b[0m\u001b[0;34m\u001b[0m\u001b[0;34m\u001b[0m\u001b[0m\n\u001b[1;32m    207\u001b[0m         \u001b[0;31m# new socket. We do not currently allow passing SOCK_NONBLOCK to\u001b[0m\u001b[0;34m\u001b[0m\u001b[0;34m\u001b[0m\u001b[0m\n",
      "\u001b[0;31mKeyboardInterrupt\u001b[0m: "
     ]
    }
   ],
   "source": [
    "import socket\n",
    "import sys\n",
    "\n",
    "# Create a TCP/IP socket\n",
    "sock = socket.socket(socket.AF_INET, socket.SOCK_STREAM)\n",
    "\n",
    "# Bind the socket to the port\n",
    "server_address = ('localhost', 6464)\n",
    "sock.setsockopt(socket.SOL_SOCKET, socket.SO_REUSEADDR, 1)\n",
    "sock.bind(server_address)\n",
    "\n",
    "# Listen for incoming connections\n",
    "sock.listen(1)\n",
    "\n",
    "while True:\n",
    "    # Wait for a connection\n",
    "    print ('waiting for a connection')\n",
    "    connection, client_address = sock.accept()\n",
    "\n",
    "    try:\n",
    "        print ('connection from', client_address)\n",
    "\n",
    "        # Receive the data in small chunks and retransmit it\n",
    "        while True:\n",
    "            data = connection.recv(8)\n",
    "            print('received', data)\n",
    "            if data:\n",
    "                print('sending data back to the client')\n",
    "            else:\n",
    "                print( 'no more data from', client_address)\n",
    "                break\n",
    "            \n",
    "    finally:\n",
    "        # Clean up the connection\n",
    "        connection.close()"
   ]
  },
  {
   "cell_type": "code",
   "execution_count": null,
   "metadata": {
    "collapsed": true
   },
   "outputs": [],
   "source": [
    "import socket\n",
    "\n",
    "def sendToPetBuddy(msg):\n",
    "    sock = socket.socket(socket.AF_INET, socket.SOCK_STREAM)\n",
    "    sock.connect('localhost', 6465)\n",
    "    #send message to the petbuddy and petbuddy responds\n",
    "    sock.sendall(msg.encode()) \n",
    "    #data is incoming encoded message from petbuddy in response to message\n",
    "    data = sock.recv(100).decode() \n",
    "    sock.shutdown(1)\n",
    "    sock.close()\n",
    "    #print data incoming from petbuddy\n",
    "    print('Received', repr(data))\n",
    "\n",
    "#function used in message = str    \n",
    "message = \"turnServo\"\n",
    "sendToPetBuddy(message)\n"
   ]
  },
  {
   "cell_type": "code",
   "execution_count": 41,
   "metadata": {
    "collapsed": true
   },
   "outputs": [],
   "source": [
    "import socket\n",
    "\n",
    "sock = socket.socket(socket.AF_INET, socket.SOCK_STREAM)\n",
    "sock.connect(('localhost', 6464))\n",
    "sock.setsockopt(socket.SOL_SOCKET, socket.SO_REUSEADDR, 1)\n",
    "sock.shutdown(1)\n",
    "sock.close()"
   ]
  },
  {
   "cell_type": "code",
   "execution_count": null,
   "metadata": {
    "collapsed": true
   },
   "outputs": [],
   "source": []
  },
  {
   "cell_type": "code",
   "execution_count": null,
   "metadata": {
    "collapsed": true
   },
   "outputs": [],
   "source": []
  }
 ],
 "metadata": {
  "kernelspec": {
   "display_name": "Python 3",
   "language": "python",
   "name": "python3"
  },
  "language_info": {
   "codemirror_mode": {
    "name": "ipython",
    "version": 3
   },
   "file_extension": ".py",
   "mimetype": "text/x-python",
   "name": "python",
   "nbconvert_exporter": "python",
   "pygments_lexer": "ipython3",
   "version": "3.6.2"
  }
 },
 "nbformat": 4,
 "nbformat_minor": 2
}
