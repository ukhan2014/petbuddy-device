{
 "cells": [
  {
   "cell_type": "code",
   "execution_count": 5,
   "metadata": {},
   "outputs": [
    {
     "name": "stdout",
     "output_type": "stream",
     "text": [
      "waiting for a connection\n",
      "('connection from', ('192.168.1.1', 6013))\n",
      "('data=', 'GET /get')\n",
      "('data=', ' HTTP/1.')\n",
      "('data=', '1\\r\\nHost:')\n",
      "('data=', ' httpbin')\n",
      "('data=', '.org\\r\\nCo')\n",
      "('data=', 'nnection')\n",
      "('data=', ': close\\r')\n",
      "('data=', '\\nAccept:')\n",
      "('data=', ' */*\\r\\n\\r\\n')\n",
      "else clause\n",
      "finally\n"
     ]
    }
   ],
   "source": [
    "import socket\n",
    "\n",
    "# Create a TCP/IP socket\n",
    "sock = socket.socket(socket.AF_INET, socket.SOCK_STREAM)\n",
    "\n",
    "# Bind the socket to the port\n",
    "server_address = ('', 10004)    # leave IP blank to just listen on the port\n",
    "                                # otherwise it does not accept connections coming from outside the machine\n",
    "sock.setsockopt(socket.SOL_SOCKET, socket.SO_REUSEADDR, 1)\n",
    "sock.bind(server_address)\n",
    "    \n",
    "# Listen for incoming connections\n",
    "sock.listen(1)\n",
    "    \n",
    "# Wait for a connection\n",
    "print ('waiting for a connection')\n",
    "connection, client_address = sock.accept()\n",
    "\n",
    "try:\n",
    "    print ('connection from', client_address)\n",
    "\n",
    "    # Receive the data in small chunks and retransmit it\n",
    "    while True:\n",
    "        data = connection.recv(8)\n",
    "        if data:\n",
    "            print(\"data=\",data)\n",
    "            data = None\n",
    "        else:\n",
    "            print(\"else clause\")\n",
    "            break\n",
    "\n",
    "finally:\n",
    "    print(\"finally\")\n",
    "    # Clean up the connection\n",
    "    connection.close()"
   ]
  },
  {
   "cell_type": "code",
   "execution_count": null,
   "metadata": {
    "collapsed": true
   },
   "outputs": [],
   "source": []
  }
 ],
 "metadata": {
  "kernelspec": {
   "display_name": "Python 2",
   "language": "python",
   "name": "python2"
  },
  "language_info": {
   "codemirror_mode": {
    "name": "ipython",
    "version": 2
   },
   "file_extension": ".py",
   "mimetype": "text/x-python",
   "name": "python",
   "nbconvert_exporter": "python",
   "pygments_lexer": "ipython2",
   "version": "2.7.10"
  }
 },
 "nbformat": 4,
 "nbformat_minor": 2
}
