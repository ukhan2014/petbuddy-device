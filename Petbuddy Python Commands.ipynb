{
 "cells": [
  {
   "cell_type": "code",
   "execution_count": 3,
   "metadata": {},
   "outputs": [
    {
     "name": "stdout",
     "output_type": "stream",
     "text": [
      "Received \"PetBuddy: 000401711350BP\\nPetBuddy: I don't know what that means.\"\n"
     ]
    }
   ],
   "source": [
    "#code for ensuring that computer is connected to petbuddy wifi\n",
    "#broadcast petbuddy wifi over ESPlorer\n",
    "#connect to petbuddy wifi network\n",
    "#this will ensure that petbuddy is connected\n",
    "\n",
    "import socket\n",
    "sock = socket.socket(socket.AF_INET, socket.SOCK_STREAM)\n",
    "sock.connect((\"192.168.1.1\", 8234))\n",
    "#this is petbuddy serial number\n",
    "sno = \"PB053117104000\"\n",
    "#reversed serial no. as to ensure that correct petbuddy is being joined, no one else will know this\n",
    "reversed_sno = ''.join(reversed(sno))\n",
    "#send petbuddy reversed encoded string\n",
    "sock.sendall(reversed_sno.encode())\n",
    "#get petbuddy's decoded reply\n",
    "data = sock.recv(100).decode()\n",
    "sock.shutdown(1)\n",
    "sock.close()\n",
    "#print out petbuddy's reply\n",
    "print('Received', repr(data))"
   ]
  },
  {
   "cell_type": "code",
   "execution_count": 4,
   "metadata": {},
   "outputs": [
    {
     "name": "stdout",
     "output_type": "stream",
     "text": [
      "Received 'PetBuddy: turnServo\\nturning the servo'\n"
     ]
    }
   ],
   "source": [
    "#code for sending petbuddy commands\n",
    "#broadcast petbuddy wifi over ESPlorer\n",
    "#connect to petbuddy wifi network\n",
    "#run this script with varying messages (message = turnServo, feedpet, hello, SSID)\n",
    "#petbuddy will run the code associated with that message\n",
    "\n",
    "import socket\n",
    "\n",
    "def sendToPetBuddy(msg):\n",
    "    sock = socket.socket(socket.AF_INET, socket.SOCK_STREAM)\n",
    "    sock.connect((\"192.168.1.1\", 8234))\n",
    "    #send message to the petbuddy and petbuddy responds\n",
    "    sock.sendall(msg.encode()) \n",
    "    #data is incoming encoded message from petbuddy in response to message\n",
    "    data = sock.recv(100).decode() \n",
    "    sock.shutdown(1)\n",
    "    sock.close()\n",
    "    #print data incoming from petbuddy\n",
    "    print('Received', repr(data))\n",
    "\n",
    "#function used in message = str    \n",
    "message = \"turnServo\"\n",
    "sendToPetBuddy(message)"
   ]
  },
  {
   "cell_type": "code",
   "execution_count": null,
   "metadata": {
    "collapsed": true
   },
   "outputs": [],
   "source": []
  }
 ],
 "metadata": {
  "kernelspec": {
   "display_name": "Python 3",
   "language": "python",
   "name": "python3"
  },
  "language_info": {
   "codemirror_mode": {
    "name": "ipython",
    "version": 3
   },
   "file_extension": ".py",
   "mimetype": "text/x-python",
   "name": "python",
   "nbconvert_exporter": "python",
   "pygments_lexer": "ipython3",
   "version": "3.6.2"
  }
 },
 "nbformat": 4,
 "nbformat_minor": 2
}
